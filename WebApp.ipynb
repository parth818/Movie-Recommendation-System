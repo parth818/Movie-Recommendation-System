{
 "cells": [
  {
   "cell_type": "code",
   "execution_count": 1,
   "metadata": {},
   "outputs": [],
   "source": [
    "# Importing required libraries\n",
    "\n",
    "import pickle\n",
    "import numpy as np\n",
    "import pandas as pd\n",
    "import warnings\n",
    "warnings.filterwarnings('ignore')\n",
    "import ipywidgets as widgets\n",
    "from IPython.display import display, clear_output"
   ]
  },
  {
   "cell_type": "code",
   "execution_count": 2,
   "metadata": {},
   "outputs": [],
   "source": [
    "#!jupyter nbextension enable --py widgetsnbextension --sys-prefix\n",
    "#!jupyter serverextension enable voila --sys-prefix"
   ]
  },
  {
   "cell_type": "code",
   "execution_count": 3,
   "metadata": {},
   "outputs": [],
   "source": [
    "# Function that takes in movie title as input and outputs most similar movies\n",
    "def get_recommendations(title, cosine_sim, indices, df):\n",
    "    # Get the index of the movie that matches the title\n",
    "    idx = indices[title]\n",
    "\n",
    "    # Get the pairwsie similarity scores of all movies with that movie\n",
    "    sim_scores = list(enumerate(cosine_sim[idx]))\n",
    "\n",
    "    # Sort the movies based on the similarity scores\n",
    "    sim_scores = sorted(sim_scores, key=lambda x: x[1], reverse=True)\n",
    "\n",
    "    # Get the scores of the 10 most similar movies\n",
    "    sim_scores = sim_scores[1:11]\n",
    "\n",
    "    # Get the movie indices\n",
    "    movie_indices = [i[0] for i in sim_scores]\n",
    "\n",
    "    # Return the top 10 most similar movies\n",
    "    return df['title'].iloc[movie_indices]"
   ]
  },
  {
   "cell_type": "code",
   "execution_count": 4,
   "metadata": {},
   "outputs": [],
   "source": [
    "# Input widgets\n",
    "\n",
    "text = widgets.Text(\n",
    "        description = 'Movie Name',\n",
    "        disabled = False,\n",
    "        layout = widgets.Layout(width = '90%')\n",
    "    )\n",
    "\n",
    "inputs = widgets.VBox([text], \n",
    "                       layout = widgets.Layout(\n",
    "                        justify_content = 'center',\n",
    "                        width = '100%'\n",
    "                        ))"
   ]
  },
  {
   "cell_type": "code",
   "execution_count": 5,
   "metadata": {},
   "outputs": [],
   "source": [
    "# Calculate button\n",
    "\n",
    "calculate = widgets.Button(\n",
    "            description = 'Search',\n",
    "            layout = widgets.Layout(width = '100%')\n",
    "        )"
   ]
  },
  {
   "cell_type": "code",
   "execution_count": 6,
   "metadata": {},
   "outputs": [],
   "source": [
    "# Line breaker\n",
    "\n",
    "text_0 = widgets.HTML(value = \"<h1></h1>\", \n",
    "                     layout = widgets.Layout(\n",
    "                     align_items = 'center',\n",
    "                     )\n",
    "                    )"
   ]
  },
  {
   "cell_type": "code",
   "execution_count": 7,
   "metadata": {},
   "outputs": [],
   "source": [
    "# Output widget\n",
    "\n",
    "output = widgets.Output()\n",
    "\n",
    "OutputHbox = widgets.HBox([output],\n",
    "                        layout = widgets.Layout(\n",
    "                        justify_content = 'center',\n",
    "                        )\n",
    "                    )"
   ]
  },
  {
   "cell_type": "code",
   "execution_count": 8,
   "metadata": {},
   "outputs": [],
   "source": [
    "def myfunc(t):\n",
    "    df = pd.read_csv(\"tmdb_5000_movies.csv\")\n",
    "    data = pickle.load(open('model.pkl', 'rb'))\n",
    "    indices = pd.Series(df.index, index=df['title']).drop_duplicates()\n",
    "    \n",
    "    return get_recommendations(t, data, indices, df)"
   ]
  },
  {
   "cell_type": "code",
   "execution_count": 9,
   "metadata": {},
   "outputs": [],
   "source": [
    "# On button click function definition\n",
    "\n",
    "def on_button_clicked(event):\n",
    "    with output:\n",
    "        clear_output()\n",
    "        Text = str(text.value)\n",
    "        \n",
    "        try:\n",
    "            print(myfunc(Text).values.tolist())\n",
    "        except:\n",
    "            print('Match not found, check spellings !')\n"
   ]
  },
  {
   "cell_type": "code",
   "execution_count": 10,
   "metadata": {},
   "outputs": [],
   "source": [
    "calculate.on_click(on_button_clicked)"
   ]
  },
  {
   "cell_type": "code",
   "execution_count": 11,
   "metadata": {},
   "outputs": [],
   "source": [
    "# Heading\n",
    "\n",
    "text_1 = widgets.HTML(value = \"<h1><b><center>Movie recommendation system</center></b></h1>\")\n",
    "\n",
    "headings = widgets.VBox([text_1, text_0])\n",
    "\n",
    "# About dataset\n",
    "\n",
    "text_4 = widgets.HTML(value = \"\"\"\n",
    "<table style=\"width: 100%; border-collapse: collapse;\" border=\"3\" cellpadding=\"20\">\n",
    "<tbody>\n",
    "<tr>\n",
    "<td style=\"width: 100%;\">\n",
    "<h1>About the dataset</h1>\n",
    "<h3>Attributes:</h3>\n",
    "<ul>\n",
    "<li>budget</li>\n",
    "<li>homepage</li>\n",
    "<li>id</li>\n",
    "<li>keywords</li>\n",
    "<li>original_language</li>\n",
    "<li>original_title</li>\n",
    "<li>overview</li>\n",
    "<li>popularity</li>\n",
    "<li>production_companies</li>\n",
    "<li>release_date</li>\n",
    "<li>revenue</li>\n",
    "<li>etc.....</li>\n",
    "<li>like: \"Avatar\",\"Spectre\",\"John Carter\"</li>\n",
    "</ul>\n",
    "</td>\n",
    "</tr>\n",
    "</tbody>\n",
    "</table>\n",
    "\"\"\")\n",
    "\n",
    "text_6 = widgets.HTML(value = \"<h1><center>Enter the Movie name:</center></h1>\")"
   ]
  },
  {
   "cell_type": "code",
   "execution_count": 12,
   "metadata": {},
   "outputs": [
    {
     "data": {
      "application/vnd.jupyter.widget-view+json": {
       "model_id": "a03428cdb5c349cda5bda14ffd7fbdb8",
       "version_major": 2,
       "version_minor": 0
      },
      "text/plain": [
       "VBox(children=(HTML(value='<h1></h1>', layout=Layout(align_items='center')), HTML(value='<h1><b><center>Movie …"
      ]
     },
     "metadata": {},
     "output_type": "display_data"
    }
   ],
   "source": [
    "# Displaying rendered Web Page\n",
    "\n",
    "page = widgets.VBox([text_0, text_1, text_0, text_0, text_4, text_0, text_6, text_0, inputs, text_0, text_0, calculate, text_0, text_0, output])\n",
    "display(page)"
   ]
  }
 ],
 "metadata": {
  "kernelspec": {
   "display_name": "Python 3",
   "language": "python",
   "name": "python3"
  },
  "language_info": {
   "codemirror_mode": {
    "name": "ipython",
    "version": 3
   },
   "file_extension": ".py",
   "mimetype": "text/x-python",
   "name": "python",
   "nbconvert_exporter": "python",
   "pygments_lexer": "ipython3",
   "version": "3.8.3"
  }
 },
 "nbformat": 4,
 "nbformat_minor": 5
}
